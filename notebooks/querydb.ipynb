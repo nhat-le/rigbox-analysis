{
 "cells": [
  {
   "cell_type": "code",
   "execution_count": 15,
   "metadata": {},
   "outputs": [],
   "source": [
    "from src import log_parser\n",
    "\n",
    "import numpy as np\n",
    "import matplotlib.pyplot as plt\n",
    "import pandas as pd\n",
    "import seaborn as sns\n",
    "import scipy.io\n",
    "import smartload.smartload as smart\n",
    "import datetime\n",
    "import pickle\n",
    "\n",
    "%reload_ext autoreload\n",
    "%autoreload 2\n"
   ]
  },
  {
   "cell_type": "code",
   "execution_count": 7,
   "metadata": {},
   "outputs": [],
   "source": [
    "pd.set_option('display.max_rows', 500)\n",
    "pd.set_option('display.max_columns', 500)\n",
    "pd.set_option('display.width', 1000)"
   ]
  },
  {
   "cell_type": "code",
   "execution_count": 8,
   "metadata": {},
   "outputs": [],
   "source": [
    "file_to_read = open(\"logs/explogs.pkl\", \"rb\")\n",
    "loaded_object = pickle.load(file_to_read)\n",
    "file_to_read.close()"
   ]
  },
  {
   "cell_type": "code",
   "execution_count": 9,
   "metadata": {},
   "outputs": [
    {
     "data": {
      "text/plain": [
       "'2021-11-16_17-05-18'"
      ]
     },
     "execution_count": 9,
     "metadata": {},
     "output_type": "execute_result"
    }
   ],
   "source": [
    "googledb = loaded_object['googledb']\n",
    "matlabdb = loaded_object['matlabdb']\n",
    "loaded_object['last_updated']"
   ]
  },
  {
   "cell_type": "code",
   "execution_count": 22,
   "metadata": {},
   "outputs": [
    {
     "data": {
      "text/plain": [
       "array([False, False, False, ...,  True,  True,  True])"
      ]
     },
     "execution_count": 22,
     "metadata": {},
     "output_type": "execute_result"
    }
   ],
   "source": [
    "pd.DatetimeIndex(matlabdb.dateStr) > pd.Timestamp(2021, 4, 1)"
   ]
  },
  {
   "cell_type": "code",
   "execution_count": 37,
   "metadata": {
    "scrolled": false
   },
   "outputs": [
    {
     "name": "stdout",
     "output_type": "stream",
     "text": [
      "['2021-03-02_1_E57', '2021-03-03_1_E57', '2021-03-04_1_E57']\n"
     ]
    },
    {
     "data": {
      "text/html": [
       "<div>\n",
       "<style scoped>\n",
       "    .dataframe tbody tr th:only-of-type {\n",
       "        vertical-align: middle;\n",
       "    }\n",
       "\n",
       "    .dataframe tbody tr th {\n",
       "        vertical-align: top;\n",
       "    }\n",
       "\n",
       "    .dataframe thead th {\n",
       "        text-align: right;\n",
       "    }\n",
       "</style>\n",
       "<table border=\"1\" class=\"dataframe\">\n",
       "  <thead>\n",
       "    <tr style=\"text-align: right;\">\n",
       "      <th></th>\n",
       "      <th>date</th>\n",
       "      <th>dateStr</th>\n",
       "      <th>type</th>\n",
       "      <th>value</th>\n",
       "      <th>comments</th>\n",
       "      <th>id</th>\n",
       "      <th>animal</th>\n",
       "      <th>ntrials</th>\n",
       "      <th>nblocks</th>\n",
       "      <th>flags</th>\n",
       "      <th>maxdelays</th>\n",
       "      <th>formatted_date</th>\n",
       "    </tr>\n",
       "  </thead>\n",
       "  <tbody>\n",
       "    <tr>\n",
       "      <th>953</th>\n",
       "      <td>738217.695276</td>\n",
       "      <td>Tue 02-Mar-2021 16:41</td>\n",
       "      <td>experiment-info</td>\n",
       "      <td>2021-03-02_1_E57</td>\n",
       "      <td>[E57blockworldrolling (threshold = 0.6)       ...</td>\n",
       "      <td>45</td>\n",
       "      <td>e57</td>\n",
       "      <td>266.0</td>\n",
       "      <td>2.0</td>\n",
       "      <td>0</td>\n",
       "      <td>0.0</td>\n",
       "      <td>2021-03-02</td>\n",
       "    </tr>\n",
       "    <tr>\n",
       "      <th>956</th>\n",
       "      <td>738218.527776</td>\n",
       "      <td>Wed 03-Mar-2021 12:39</td>\n",
       "      <td>experiment-info</td>\n",
       "      <td>2021-03-03_1_E57</td>\n",
       "      <td>[E57blockworldrolling (threshold = 0.6), 15 mi...</td>\n",
       "      <td>48</td>\n",
       "      <td>e57</td>\n",
       "      <td>391.0</td>\n",
       "      <td>13.0</td>\n",
       "      <td>0</td>\n",
       "      <td>0.0</td>\n",
       "      <td>2021-03-03</td>\n",
       "    </tr>\n",
       "    <tr>\n",
       "      <th>957</th>\n",
       "      <td>738219.781504</td>\n",
       "      <td>Thu 04-Mar-2021 18:45</td>\n",
       "      <td>experiment-info</td>\n",
       "      <td>2021-03-04_1_E57</td>\n",
       "      <td>[e57blockworldrolling w pupil, no delay       ...</td>\n",
       "      <td>49</td>\n",
       "      <td>e57</td>\n",
       "      <td>622.0</td>\n",
       "      <td>21.0</td>\n",
       "      <td>0</td>\n",
       "      <td>0.0</td>\n",
       "      <td>2021-03-04</td>\n",
       "    </tr>\n",
       "  </tbody>\n",
       "</table>\n",
       "</div>"
      ],
      "text/plain": [
       "              date                dateStr             type             value                                           comments  id animal  ntrials  nblocks  flags  maxdelays formatted_date\n",
       "953  738217.695276  Tue 02-Mar-2021 16:41  experiment-info  2021-03-02_1_E57  [E57blockworldrolling (threshold = 0.6)       ...  45    e57    266.0      2.0      0        0.0     2021-03-02\n",
       "956  738218.527776  Wed 03-Mar-2021 12:39  experiment-info  2021-03-03_1_E57  [E57blockworldrolling (threshold = 0.6), 15 mi...  48    e57    391.0     13.0      0        0.0     2021-03-03\n",
       "957  738219.781504  Thu 04-Mar-2021 18:45  experiment-info  2021-03-04_1_E57  [e57blockworldrolling w pupil, no delay       ...  49    e57    622.0     21.0      0        0.0     2021-03-04"
      ]
     },
     "execution_count": 37,
     "metadata": {},
     "output_type": "execute_result"
    }
   ],
   "source": [
    "filtered_tbl = matlabdb[(matlabdb.animal == 'e57') & (pd.DatetimeIndex(matlabdb.dateStr) >= pd.Timestamp(2021, 3, 1)) & \\\n",
    "        (matlabdb.maxdelays == 0) & (pd.DatetimeIndex(matlabdb.dateStr) <= pd.Timestamp(2021, 5, 1)) & (matlabdb.ntrials > 250)]\n",
    "print(list(filtered_tbl.value))\n",
    "\n",
    "filtered_tbl"
   ]
  },
  {
   "cell_type": "code",
   "execution_count": 8,
   "metadata": {},
   "outputs": [
    {
     "data": {
      "text/plain": [
       "array(['', 6, 14, 16, 7, 10, 4, 5, 15, 2, 17, 9, 1, 3, 11, 8, 12, 19, 20,\n",
       "       24, 13, 'N/A', '1?', '23!!!', 22, 23, 26, 0, 18, '~7'],\n",
       "      dtype=object)"
      ]
     },
     "execution_count": 8,
     "metadata": {},
     "output_type": "execute_result"
    }
   ],
   "source": [
    "googledb.nblocks.unique()"
   ]
  },
  {
   "cell_type": "code",
   "execution_count": null,
   "metadata": {},
   "outputs": [],
   "source": []
  }
 ],
 "metadata": {
  "kernelspec": {
   "display_name": "Default",
   "language": "python",
   "name": "default"
  },
  "language_info": {
   "codemirror_mode": {
    "name": "ipython",
    "version": 3
   },
   "file_extension": ".py",
   "mimetype": "text/x-python",
   "name": "python",
   "nbconvert_exporter": "python",
   "pygments_lexer": "ipython3",
   "version": "3.9.5"
  }
 },
 "nbformat": 4,
 "nbformat_minor": 4
}
