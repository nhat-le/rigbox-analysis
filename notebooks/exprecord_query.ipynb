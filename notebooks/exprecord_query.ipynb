{
 "cells": [
  {
   "cell_type": "code",
   "execution_count": 1,
   "metadata": {},
   "outputs": [],
   "source": [
    "# import sys\n",
    "# !{sys.executable} -m pip install --index-url https://test.pypi.org/simple/ --no-deps smartload\n",
    "\n",
    "import numpy as np\n",
    "import matplotlib.pyplot as plt\n",
    "import pandas as pd\n",
    "import seaborn as sns\n",
    "import gspread\n",
    "import scipy.io\n",
    "import smartload.smartload as smart\n",
    "# from google.oauth2.credentials import Credentials\n",
    "\n",
    "%matplotlib inline\n",
    "\n",
    "from oauth2client.service_account import ServiceAccountCredentials\n",
    "from pprint import pprint"
   ]
  },
  {
   "cell_type": "code",
   "execution_count": 2,
   "metadata": {},
   "outputs": [],
   "source": [
    "scope = ['https://www.googleapis.com/auth/drive.file',\n",
    "         \"https://www.googleapis.com/auth/drive\",\n",
    "         \"https://spreadsheets.google.com/feeds\",\n",
    "         'https://www.googleapis.com/auth/spreadsheets']\n",
    "creds = ServiceAccountCredentials.from_json_keyfile_name(\"creds/creds.json\", scope)\n",
    "client = gspread.authorize(creds)\n",
    "sheet = client.open(\"BehaviorOptics Experiments Records\").get_worksheet(1)\n",
    "\n",
    "data = sheet.get_all_records()\n",
    "\n",
    "frame = pd.DataFrame(data)\n",
    "frame = frame[frame['Animal ID'] != '']\n",
    "\n",
    "assert(len(frame.columns) == 17)\n",
    "frame.columns = ['date', 'animal', 'time_start', 'time_end', 'experimenter',\n",
    "       'rig', 'stage', 'pupil', 'dropped_frames',\n",
    "       'data_extraction', 'ntrials', 'nblocks',\n",
    "       'water_earned', 'good_for_analyzing', 'notes',\n",
    "       'imaging_power_blue', 'imaging_power_violet']\n",
    "\n",
    "# Some data cleaning\n",
    "frame.animal = np.char.lower(np.array(frame.animal).astype('str'))\n",
    "frame.pupil[frame.pupil == ''] = 'FALSE'\n"
   ]
  },
  {
   "cell_type": "code",
   "execution_count": 3,
   "metadata": {},
   "outputs": [
    {
     "ename": "NameError",
     "evalue": "name 'colnames' is not defined",
     "output_type": "error",
     "traceback": [
      "\u001b[0;31m---------------------------------------------------------------------------\u001b[0m",
      "\u001b[0;31mNameError\u001b[0m                                 Traceback (most recent call last)",
      "\u001b[0;32m<ipython-input-3-6f0d3769a5ad>\u001b[0m in \u001b[0;36m<module>\u001b[0;34m\u001b[0m\n\u001b[1;32m      3\u001b[0m \u001b[0;34m\u001b[0m\u001b[0m\n\u001b[1;32m      4\u001b[0m \u001b[0mdatadict\u001b[0m \u001b[0;34m=\u001b[0m \u001b[0;34m{\u001b[0m\u001b[0;34m}\u001b[0m\u001b[0;34m\u001b[0m\u001b[0;34m\u001b[0m\u001b[0m\n\u001b[0;32m----> 5\u001b[0;31m \u001b[0;32mfor\u001b[0m \u001b[0mcolname\u001b[0m\u001b[0;34m,\u001b[0m \u001b[0mval\u001b[0m \u001b[0;32min\u001b[0m \u001b[0mzip\u001b[0m\u001b[0;34m(\u001b[0m\u001b[0mcolnames\u001b[0m\u001b[0;34m,\u001b[0m \u001b[0mvals\u001b[0m\u001b[0;34m)\u001b[0m\u001b[0;34m:\u001b[0m\u001b[0;34m\u001b[0m\u001b[0;34m\u001b[0m\u001b[0m\n\u001b[0m\u001b[1;32m      6\u001b[0m     \u001b[0mdatadict\u001b[0m\u001b[0;34m[\u001b[0m\u001b[0mcolname\u001b[0m\u001b[0;34m]\u001b[0m \u001b[0;34m=\u001b[0m \u001b[0mval\u001b[0m\u001b[0;34m\u001b[0m\u001b[0;34m\u001b[0m\u001b[0m\n\u001b[1;32m      7\u001b[0m \u001b[0;34m\u001b[0m\u001b[0m\n",
      "\u001b[0;31mNameError\u001b[0m: name 'colnames' is not defined"
     ]
    }
   ],
   "source": [
    "# Load matlab data log\n",
    "data = smart.loadmat('/Users/minhnhatle/Documents/ExternalCode/rigbox_analysis/dbmake/logdb.mat')\n",
    "colnames = data['logtable']['table']['data']\n",
    "\n",
    "\n",
    "datadict = {}\n",
    "for colname, val in zip(colnames, vals):\n",
    "    datadict[colname] = val\n",
    "\n",
    "matlablog = pd.DataFrame(datadict)"
   ]
  },
  {
   "cell_type": "code",
   "execution_count": null,
   "metadata": {},
   "outputs": [],
   "source": []
  }
 ],
 "metadata": {
  "kernelspec": {
   "display_name": "Default",
   "language": "python",
   "name": "default"
  },
  "language_info": {
   "codemirror_mode": {
    "name": "ipython",
    "version": 3
   },
   "file_extension": ".py",
   "mimetype": "text/x-python",
   "name": "python",
   "nbconvert_exporter": "python",
   "pygments_lexer": "ipython3",
   "version": "3.9.5"
  }
 },
 "nbformat": 4,
 "nbformat_minor": 4
}
