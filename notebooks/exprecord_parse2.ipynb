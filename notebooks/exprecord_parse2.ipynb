{
 "cells": [
  {
   "cell_type": "code",
   "execution_count": null,
   "metadata": {},
   "outputs": [],
   "source": [
    "import src.log_parser"
   ]
  },
  {
   "cell_type": "code",
   "execution_count": null,
   "metadata": {},
   "outputs": [],
   "source": [
    "!python src/log_parser.py"
   ]
  },
  {
   "cell_type": "code",
   "execution_count": null,
   "metadata": {},
   "outputs": [],
   "source": [
    "from src.log_parser import get_googledb, get_matlabdb, parse_files_for_trial_info, merge_old_new\n",
    "from oauth2client.service_account import ServiceAccountCredentials\n",
    "\n",
    "import datetime\n",
    "import pickle\n",
    "import pandas as pd\n",
    "import numpy as np\n",
    "pd.set_option('display.max_rows', 500)\n",
    "pd.set_option('display.max_columns', 500)\n",
    "pd.set_option('display.width', 1000)\n",
    "\n",
    "%reload_ext autoreload\n",
    "%autoreload 2"
   ]
  },
  {
   "cell_type": "code",
   "execution_count": null,
   "metadata": {
    "scrolled": true
   },
   "outputs": [],
   "source": [
    "# Get the databases\n",
    "googledb = get_googledb()\n",
    "matlabdb = get_matlabdb()\n"
   ]
  },
  {
   "cell_type": "code",
   "execution_count": null,
   "metadata": {
    "scrolled": true
   },
   "outputs": [],
   "source": [
    "# For 'hard' writes\n",
    "mergedtbl = pd.merge(matlabdb, googledb, on=['formatted_date', 'animal'])\n",
    "\n",
    "# Save file\n",
    "datestr = datetime.datetime.now().strftime('%Y-%m-%d_%H-%M-%S')\n",
    "file_to_store = open(\"logs/explogs.pkl\", \"wb\")\n",
    "pickle.dump({'googledb': googledb, 'matlabdb': matlabdb, 'last_updated': datestr}, file_to_store)"
   ]
  },
  {
   "cell_type": "code",
   "execution_count": null,
   "metadata": {},
   "outputs": [],
   "source": [
    "# Update the db\n",
    "file_to_load = open(\"logs/explogs.pkl\", \"rb\")\n",
    "data = pickle.load(file_to_load)\n",
    "file_to_load.close()\n",
    "matlabdb_old, googledb_old = data['matlabdb'], data['googledb']\n",
    "   \n",
    "googledb_merged, googledups = merge_old_new(googledb_old, googledb)\n",
    "matlabdb_merged, matlabdups = merge_old_new(matlabdb_old, matlabdb, ['comments'])\n",
    "\n",
    "datestr = datetime.datetime.now().strftime('%Y-%m-%d_%H-%M-%S')\n",
    "file_to_store = open(\"logs/explogs.pkl\", \"wb\")\n",
    "pickle.dump({'googledb': googledb_merged, 'matlabdb': matlabdb_merged, 'last_updated': datestr}, file_to_store)\n",
    "file_to_store.close()"
   ]
  },
  {
   "cell_type": "code",
   "execution_count": null,
   "metadata": {},
   "outputs": [],
   "source": [
    "file_to_load = open(\"logs/explogs.pkl\", \"rb\")\n",
    "data = pickle.load(file_to_load)\n",
    "file_to_load.close()\n",
    "matlabdb, googledb = data['matlabdb'], data['googledb']\n",
    "   "
   ]
  },
  {
   "cell_type": "code",
   "execution_count": null,
   "metadata": {},
   "outputs": [],
   "source": [
    "import smartload.smartload as smart\n",
    "import os\n",
    "data = smart.loadmat('/Users/minhnhatle/Documents/ExternalCode/rigbox_analysis/notebooks/logs/logdb.mat')\n",
    "vals = data['logtable']['table']['data']\n",
    "colnames = data['logtable']['columns']\n",
    "\n",
    "datadict = {}\n",
    "for colname, val in zip(colnames, vals):\n",
    "    datadict[colname] = val\n",
    "\n",
    "matlablog = pd.DataFrame(datadict)\n",
    "# Parse the experiment log files to find out trial info etc\n",
    "rigboxdir = '/Users/minhnhatle/Dropbox (MIT)/Nhat/Rigbox'\n",
    "rootdir = rigboxdir\n",
    "files = matlablog.value\n",
    "file = '2021-08-19_1_f23'\n",
    "date, sessid, animal = file.split('_')\n",
    "path = os.path.join(rootdir, animal, date, sessid, file + '_Block.mat')\n",
    "data2 = smart.loadmat(path)"
   ]
  },
  {
   "cell_type": "code",
   "execution_count": null,
   "metadata": {},
   "outputs": [],
   "source": [
    "from src.log_parser import parse_files_for_trial_info"
   ]
  },
  {
   "cell_type": "code",
   "execution_count": null,
   "metadata": {},
   "outputs": [],
   "source": [
    "[elem['rewardDelay'] for elem in data2['block']['paramsValues']]"
   ]
  },
  {
   "cell_type": "code",
   "execution_count": null,
   "metadata": {
    "scrolled": true
   },
   "outputs": [],
   "source": [
    "ntr, nbl, flags, maxdelays = parse_files_for_trial_info(rigboxdir, files[300:400],verbose=1)"
   ]
  },
  {
   "cell_type": "code",
   "execution_count": null,
   "metadata": {
    "scrolled": true
   },
   "outputs": [],
   "source": [
    "maxdelays"
   ]
  },
  {
   "cell_type": "code",
   "execution_count": null,
   "metadata": {},
   "outputs": [],
   "source": [
    "from src.log_parser import get_matlabdb"
   ]
  },
  {
   "cell_type": "code",
   "execution_count": null,
   "metadata": {
    "scrolled": true
   },
   "outputs": [],
   "source": [
    "a = get_matlabdb()"
   ]
  },
  {
   "cell_type": "code",
   "execution_count": null,
   "metadata": {},
   "outputs": [],
   "source": [
    "a.maxdelays.unique()"
   ]
  },
  {
   "cell_type": "code",
   "execution_count": null,
   "metadata": {},
   "outputs": [],
   "source": [
    "a"
   ]
  },
  {
   "cell_type": "code",
   "execution_count": null,
   "metadata": {},
   "outputs": [],
   "source": []
  }
 ],
 "metadata": {
  "kernelspec": {
   "display_name": "Default",
   "language": "python",
   "name": "default"
  },
  "language_info": {
   "codemirror_mode": {
    "name": "ipython",
    "version": 3
   },
   "file_extension": ".py",
   "mimetype": "text/x-python",
   "name": "python",
   "nbconvert_exporter": "python",
   "pygments_lexer": "ipython3",
   "version": "3.9.5"
  }
 },
 "nbformat": 4,
 "nbformat_minor": 4
}
